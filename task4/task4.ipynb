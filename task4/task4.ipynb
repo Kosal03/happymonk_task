{
  "nbformat": 4,
  "nbformat_minor": 0,
  "metadata": {
    "colab": {
      "provenance": []
    },
    "kernelspec": {
      "name": "python3",
      "display_name": "Python 3"
    },
    "language_info": {
      "name": "python"
    }
  },
  "cells": [
    {
      "cell_type": "code",
      "execution_count": null,
      "metadata": {
        "colab": {
          "base_uri": "https://localhost:8080/"
        },
        "id": "HkZC5onTRBpl",
        "outputId": "6d3231ce-b7ba-4bfb-98f5-4a015f4add26"
      },
      "outputs": [
        {
          "output_type": "stream",
          "name": "stdout",
          "text": [
            "Mounted at /content/drive\n"
          ]
        }
      ],
      "source": [
        "from google.colab import drive\n",
        "drive.mount('/content/drive',force_remount=True)"
      ]
    },
    {
      "cell_type": "code",
      "source": [
        "!pip install unrar\n",
        "!unrar x /content/drive/MyDrive/Happymonk/task4/task4.rar"
      ],
      "metadata": {
        "id": "ej_qOJNhRQCh",
        "colab": {
          "base_uri": "https://localhost:8080/"
        },
        "outputId": "33bd9d87-4d3a-470a-b368-81a3cad19664"
      },
      "execution_count": null,
      "outputs": [
        {
          "output_type": "stream",
          "name": "stdout",
          "text": [
            "Looking in indexes: https://pypi.org/simple, https://us-python.pkg.dev/colab-wheels/public/simple/\n",
            "Requirement already satisfied: unrar in /usr/local/lib/python3.7/dist-packages (0.4)\n",
            "\n",
            "UNRAR 5.50 freeware      Copyright (c) 1993-2017 Alexander Roshal\n",
            "\n",
            "\n",
            "Extracting from /content/drive/MyDrive/Happymonk/task4/task4.rar\n",
            "\n",
            "Creating    task4                                                     OK\n",
            "Creating    task4/bengali                                             OK\n",
            "Extracting  task4/bengali/bengali1.jpg                                   \b\b\b\b  0%\b\b\b\b\b  OK \n",
            "Extracting  task4/bengali/bengali10.jpg                                  \b\b\b\b  1%\b\b\b\b  2%\b\b\b\b\b  OK \n",
            "Extracting  task4/bengali/bengali2.jpg                                   \b\b\b\b  3%\b\b\b\b\b  OK \n",
            "Extracting  task4/bengali/bengali3.jpg                                   \b\b\b\b  4%\b\b\b\b\b  OK \n",
            "Extracting  task4/bengali/bengali4.jpg                                   \b\b\b\b  5%\b\b\b\b\b  OK \n",
            "Extracting  task4/bengali/bengali5.jpg                                   \b\b\b\b  6%\b\b\b\b  7%\b\b\b\b  8%\b\b\b\b  9%\b\b\b\b 10%\b\b\b\b 11%\b\b\b\b 12%\b\b\b\b 13%\b\b\b\b 14%\b\b\b\b 15%\b\b\b\b 16%\b\b\b\b 17%\b\b\b\b 18%\b\b\b\b 19%\b\b\b\b\b  OK \n",
            "Extracting  task4/bengali/bengali6.jpg                                   \b\b\b\b 22%\b\b\b\b\b  OK \n",
            "Extracting  task4/bengali/bengali7.jpg                                   \b\b\b\b 23%\b\b\b\b 24%\b\b\b\b\b  OK \n",
            "Extracting  task4/bengali/bengali8.jpg                                   \b\b\b\b 24%\b\b\b\b\b  OK \n",
            "Extracting  task4/bengali/bengali9.jpg                                   \b\b\b\b 25%\b\b\b\b 26%\b\b\b\b\b  OK \n",
            "Creating    task4/hindi                                               OK\n",
            "Extracting  task4/hindi/hindi1.jpg                                       \b\b\b\b 26%\b\b\b\b\b  OK \n",
            "Extracting  task4/hindi/hindi10.jpg                                      \b\b\b\b 27%\b\b\b\b\b  OK \n",
            "Extracting  task4/hindi/hindi2.jpg                                       \b\b\b\b 27%\b\b\b\b 28%\b\b\b\b 29%\b\b\b\b\b  OK \n",
            "Extracting  task4/hindi/hindi3.jpg                                       \b\b\b\b 29%\b\b\b\b\b  OK \n",
            "Extracting  task4/hindi/hindi4.jpg                                       \b\b\b\b 33%\b\b\b\b\b  OK \n",
            "Extracting  task4/hindi/hindi5.jpg                                       \b\b\b\b 33%\b\b\b\b\b  OK \n",
            "Extracting  task4/hindi/hindi6.jpg                                       \b\b\b\b 34%\b\b\b\b 35%\b\b\b\b 36%\b\b\b\b 37%\b\b\b\b 38%\b\b\b\b 39%\b\b\b\b 40%\b\b\b\b 41%\b\b\b\b 42%\b\b\b\b 43%\b\b\b\b 44%\b\b\b\b 45%\b\b\b\b 46%\b\b\b\b\b  OK \n",
            "Extracting  task4/hindi/hindi7.jpg                                       \b\b\b\b 46%\b\b\b\b\b  OK \n",
            "Extracting  task4/hindi/hindi8.jpg                                       \b\b\b\b 47%\b\b\b\b 48%\b\b\b\b 49%\b\b\b\b\b  OK \n",
            "Extracting  task4/hindi/hindi9.jpg                                       \b\b\b\b 49%\b\b\b\b\b  OK \n",
            "Creating    task4/kannada                                             OK\n",
            "Extracting  task4/kannada/kannada1.jpg                                   \b\b\b\b 50%\b\b\b\b 51%\b\b\b\b 52%\b\b\b\b 53%\b\b\b\b\b  OK \n",
            "Extracting  task4/kannada/kannada10.jpg                                  \b\b\b\b 53%\b\b\b\b\b  OK \n",
            "Extracting  task4/kannada/kannada11.jpg                                  \b\b\b\b 53%\b\b\b\b\b  OK \n",
            "Extracting  task4/kannada/kannada2.jpg                                   \b\b\b\b 54%\b\b\b\b 55%\b\b\b\b 56%\b\b\b\b 57%\b\b\b\b 58%\b\b\b\b 59%\b\b\b\b 60%\b\b\b\b 61%\b\b\b\b 62%\b\b\b\b\b  OK \n",
            "Extracting  task4/kannada/kannada3.jpg                                   \b\b\b\b 62%\b\b\b\b\b  OK \n",
            "Extracting  task4/kannada/kannada4.jpg                                   \b\b\b\b 62%\b\b\b\b\b  OK \n",
            "Extracting  task4/kannada/kannada5.jpg                                   \b\b\b\b 63%\b\b\b\b 64%\b\b\b\b 65%\b\b\b\b\b  OK \n",
            "Extracting  task4/kannada/kannada6.jpg                                   \b\b\b\b 66%\b\b\b\b 67%\b\b\b\b 68%\b\b\b\b 69%\b\b\b\b 70%\b\b\b\b 71%\b\b\b\b 72%\b\b\b\b 73%\b\b\b\b\b  OK \n",
            "Extracting  task4/kannada/kannada7.jpg                                   \b\b\b\b 74%\b\b\b\b\b  OK \n",
            "Extracting  task4/kannada/kannada8.jpg                                   \b\b\b\b 75%\b\b\b\b 76%\b\b\b\b 77%\b\b\b\b 78%\b\b\b\b 79%\b\b\b\b 80%\b\b\b\b 81%\b\b\b\b 82%\b\b\b\b\b  OK \n",
            "Extracting  task4/kannada/kannada9.jpg                                   \b\b\b\b 85%\b\b\b\b\b  OK \n",
            "Creating    task4/tamil                                               OK\n",
            "Extracting  task4/tamil/tamil1.jpg                                       \b\b\b\b 85%\b\b\b\b\b  OK \n",
            "Extracting  task4/tamil/tamil2.jpg                                       \b\b\b\b 86%\b\b\b\b\b  OK \n",
            "Extracting  task4/tamil/tamil3.jpg                                       \b\b\b\b 87%\b\b\b\b\b  OK \n",
            "Extracting  task4/tamil/tamil4.jpg                                       \b\b\b\b 89%\b\b\b\b\b  OK \n",
            "Extracting  task4/tamil/tamil5.jpg                                       \b\b\b\b 90%\b\b\b\b 91%\b\b\b\b 92%\b\b\b\b 93%\b\b\b\b\b  OK \n",
            "Extracting  task4/tamil/tamil6.jpg                                       \b\b\b\b 93%\b\b\b\b 94%\b\b\b\b 95%\b\b\b\b\b  OK \n",
            "Extracting  task4/tamil/tamil7.jpg                                       \b\b\b\b 95%\b\b\b\b\b  OK \n",
            "Extracting  task4/tamil/tamil8.jpg                                       \b\b\b\b 95%\b\b\b\b\b  OK \n",
            "Extracting  task4/tamil/tamil9.jpg                                       \b\b\b\b 96%\b\b\b\b 97%\b\b\b\b 98%\b\b\b\b 99%\b\b\b\b\b  OK \n",
            "All OK\n"
          ]
        }
      ]
    },
    {
      "cell_type": "code",
      "source": [
        "import pandas as pd\n",
        "import numpy as np\n",
        "import tensorflow as tf\n",
        "import cv2\n",
        "from tensorflow.keras.preprocessing.image import ImageDataGenerator, array_to_img, img_to_array, load_img\n",
        "from PIL import Image"
      ],
      "metadata": {
        "id": "9a3GpbGLZ98w"
      },
      "execution_count": null,
      "outputs": []
    },
    {
      "cell_type": "code",
      "source": [
        "datagen = ImageDataGenerator(\n",
        "        rotation_range=40,\n",
        "        width_shift_range=0.2,\n",
        "        height_shift_range=0.2,\n",
        "        shear_range=0.25,\n",
        "        brightness_range = [0.2,1.8],\n",
        "        zoom_range=0.2,\n",
        "        horizontal_flip=True,\n",
        "        fill_mode='constant')"
      ],
      "metadata": {
        "id": "gh4qD1a5Riia"
      },
      "execution_count": null,
      "outputs": []
    },
    {
      "cell_type": "code",
      "source": [
        "import os.path\n",
        "from os import path\n",
        "\n",
        "if path.exists('/content/task4/hindi_aug') == False:\n",
        "  os.mkdir('/content/task4/hindi_aug')\n",
        "if path.exists('/content/task4/kannada_aug') == False:\n",
        "  os.mkdir('/content/task4/kannada_aug')\n",
        "if path.exists('/content/task4/tamil_aug') == False:\n",
        "  os.mkdir('/content/task4/tamil_aug')  \n",
        "if path.exists('/content/task4/bengali_aug') == False:\n",
        "  os.mkdir('/content/task4/bengali_aug')  "
      ],
      "metadata": {
        "id": "Eorn1HVzYsDO"
      },
      "execution_count": null,
      "outputs": []
    },
    {
      "cell_type": "code",
      "source": [
        "dct = {}\n",
        "\n",
        "# Get image from dataset\n",
        "train_dir ='/content/task4/'\n",
        "\n",
        "list_subfolders_with_paths = [f.path for f in os.scandir(train_dir) if f.is_dir()]\n",
        "\n",
        "for i in list_subfolders_with_paths:\n",
        "    if i.split('/')[3] in ['hindi','kannada','tamil', 'bengali']:\n",
        "        dct[i.split('/')[3]] = [f.path for f in os.scandir(i) if f.path.endswith('.jpg')]\n",
        "\n",
        "dataset = pd.DataFrame.from_dict(dct, orient='index').transpose()\n",
        "# dataset"
      ],
      "metadata": {
        "id": "tGqj8DLhZAki"
      },
      "execution_count": null,
      "outputs": []
    },
    {
      "cell_type": "code",
      "source": [
        "file_list = {}\n",
        "for idx in dataset:\n",
        "    file_list[idx] = dataset[idx].values"
      ],
      "metadata": {
        "id": "llNzPkSNZgt0"
      },
      "execution_count": null,
      "outputs": []
    },
    {
      "cell_type": "code",
      "source": [
        "for idx, files in file_list.items():\n",
        "    for file in files : \n",
        "      # print(file)\n",
        "      if file != None:\n",
        "        img = load_img(file)  # this is a PIL image\n",
        "        x = img_to_array(img)  # this is a Numpy array with shape (3, 150, 150)\n",
        "        x = x.reshape((1,) + x.shape)  # this is a Numpy array with shape (1, 3, 150, 150)\n",
        "\n",
        "        # the .flow() command below generates batches of randomly transformed images\n",
        "        # and saves the results to the `preview/` directory\n",
        "        if idx=='hindi':\n",
        "          i = 0\n",
        "          for batch in datagen.flow(x, batch_size=1,\n",
        "                                    save_to_dir='/content/task4/hindi_aug', save_prefix='hindi', save_format='jpg'):\n",
        "              i += 1\n",
        "              if i > 20:\n",
        "                  break  \n",
        "        elif idx=='kannada':\n",
        "          i = 0\n",
        "          for batch in datagen.flow(x, batch_size=1,\n",
        "                                    save_to_dir='/content/task4/kannada_aug', save_prefix='hindi', save_format='jpg'):\n",
        "              i += 1\n",
        "              if i > 20:\n",
        "                  break\n",
        "        elif idx == 'tamil':\n",
        "            i = 0\n",
        "            for batch in datagen.flow(x, batch_size=1,\n",
        "                                      save_to_dir='/content/task4/tamil_aug', save_prefix='tamil', save_format='jpg'):\n",
        "                i += 1\n",
        "                if i > 20:\n",
        "                    break  \n",
        "        else:\n",
        "            i = 0\n",
        "            for batch in datagen.flow(x, batch_size=1,\n",
        "                                      save_to_dir='/content/task4/bengali_aug', save_prefix='bengali', save_format='jpg'):\n",
        "                i += 1\n",
        "                if i > 20:\n",
        "                    break \n"
      ],
      "metadata": {
        "id": "F7LJCKAmZi3O"
      },
      "execution_count": null,
      "outputs": []
    },
    {
      "cell_type": "code",
      "source": [
        "!zip -r /content/task4.zip /content/task4"
      ],
      "metadata": {
        "id": "YO0IlvogfrcZ"
      },
      "execution_count": null,
      "outputs": []
    },
    {
      "cell_type": "code",
      "source": [],
      "metadata": {
        "id": "FGkW8N3obL1N"
      },
      "execution_count": null,
      "outputs": []
    },
    {
      "cell_type": "code",
      "source": [
        "%rm -rf /content/task4/hindi_aug\n",
        "%rm -rf /content/task4/kannada_aug\n",
        "%rm -rf /content/task4"
      ],
      "metadata": {
        "id": "gzZXZXaRgNVt"
      },
      "execution_count": null,
      "outputs": []
    },
    {
      "cell_type": "code",
      "source": [
        "%rm -rf /content/task4"
      ],
      "metadata": {
        "id": "1wo3xXR4agQI"
      },
      "execution_count": null,
      "outputs": []
    },
    {
      "cell_type": "code",
      "source": [],
      "metadata": {
        "id": "ZptrbfX615oX"
      },
      "execution_count": null,
      "outputs": []
    }
  ]
}